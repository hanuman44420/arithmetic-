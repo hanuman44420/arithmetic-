{
  "nbformat": 4,
  "nbformat_minor": 0,
  "metadata": {
    "colab": {
      "name": "Untitled6.ipynb",
      "provenance": []
    },
    "kernelspec": {
      "name": "python3",
      "display_name": "Python 3"
    },
    "language_info": {
      "name": "python"
    }
  },
  "cells": [
    {
      "cell_type": "code",
      "execution_count": 1,
      "metadata": {
        "colab": {
          "base_uri": "https://localhost:8080/"
        },
        "id": "iQNnLwGHpeoh",
        "outputId": "74bffe7a-72df-4428-ece5-51b77bd24796"
      },
      "outputs": [
        {
          "output_type": "stream",
          "name": "stdout",
          "text": [
            "(1280, 960, 3)\n"
          ]
        }
      ],
      "source": [
        "import cv2\n",
        "import numpy as np\n",
        "\n",
        "img = cv2.imread(\"/content/drive/MyDrive/hanuman2.jpg\")\n",
        "sub = np.zeros([148, 200, 3], dtype=np.uint8)\n",
        "\n",
        "print(np.shape(img))  \n",
        "for i in range(0,148):\n",
        "    for j in range(0,200):\n",
        "        for k in range(0,3):\n",
        "            sub[i][j][k] = img[i][j][k] - 80   # Addition\n",
        "cv2.imwrite('subtract.jpg', sub)        \n",
        "cv2.waitKey(0)\n",
        "cv2.destroyAllWindows()"
      ]
    }
  ]
}